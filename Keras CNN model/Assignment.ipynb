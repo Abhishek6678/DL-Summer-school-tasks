{
 "cells": [
  {
   "cell_type": "code",
   "execution_count": 4,
   "id": "24e83db3-ecfc-415d-849a-18c308be1f37",
   "metadata": {},
   "outputs": [],
   "source": [
    "import numpy as np\n",
    "from keras import layers\n",
    "from keras.layers import Input, Add, Dense, Activation, ZeroPadding2D, BatchNormalization, LeakyReLU, Flatten, Conv2D, AveragePooling2D, MaxPooling2D, GlobalMaxPooling2D\n",
    "from keras.models import Model, load_model\n",
    "from keras.preprocessing import image\n",
    "from keras.utils import layer_utils\n",
    "from keras.utils.data_utils import get_file\n",
    "from keras.applications.imagenet_utils import preprocess_input\n",
    "import pydot\n",
    "from IPython.display import SVG\n",
    "from keras.utils.vis_utils import model_to_dot\n",
    "from keras.utils.vis_utils import plot_model\n",
    "from resnets_utils import *\n",
    "from keras.initializers import glorot_uniform\n",
    "import scipy.misc\n",
    "from matplotlib.pyplot import imshow\n",
    "%matplotlib inline\n",
    "\n",
    "import keras.backend as K\n",
    "K.set_image_data_format('channels_last')\n",
    "K.set_learning_phase(1)"
   ]
  },
  {
   "cell_type": "code",
   "execution_count": 5,
   "id": "6574ce90-442b-4b8f-ab06-fbfd5df3c835",
   "metadata": {},
   "outputs": [],
   "source": [
    "def Network(X):\n",
    "    \"\"\"\n",
    "    Implementation of the model as defined\n",
    "    \n",
    "    Arguments:\n",
    "    X -- input tensor of shape (m, 56, 56, 256)\n",
    "    \n",
    "    Returns:\n",
    "    X -- output of the identity block, tensor of shape (56, 56, 256)\n",
    "    \"\"\"\n",
    "    \n",
    "    # Save the input value. You'll need this later to add back to the main path. \n",
    "    X_shortcut = X\n",
    "    \n",
    "    # First component of main path\n",
    "    X = Conv2D(filters = 256, kernel_size = (1, 1), strides = (1,1), padding = 'same', kernel_initializer = glorot_uniform(seed=0))(X)\n",
    "    X = BatchNormalization(axis = 3)(X)\n",
    "    X = LeakyReLU()(X)\n",
    "\n",
    "\n",
    "    # Final step: Add shortcut value to main path\n",
    "    X = Add()([X, X_shortcut])\n",
    "    \n",
    "    return X"
   ]
  },
  {
   "cell_type": "code",
   "execution_count": null,
   "id": "451598e8-9346-4a47-90fe-0f52fac3b15c",
   "metadata": {},
   "outputs": [],
   "source": []
  }
 ],
 "metadata": {
  "kernelspec": {
   "display_name": "Python 3",
   "language": "python",
   "name": "python3"
  },
  "language_info": {
   "codemirror_mode": {
    "name": "ipython",
    "version": 3
   },
   "file_extension": ".py",
   "mimetype": "text/x-python",
   "name": "python",
   "nbconvert_exporter": "python",
   "pygments_lexer": "ipython3",
   "version": "3.6.3"
  }
 },
 "nbformat": 4,
 "nbformat_minor": 5
}
